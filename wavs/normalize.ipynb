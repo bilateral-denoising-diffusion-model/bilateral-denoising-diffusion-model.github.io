{
 "cells": [
  {
   "cell_type": "code",
   "execution_count": 1,
   "id": "9bf28f9f-018a-4d6c-983c-0aba6883f57d",
   "metadata": {},
   "outputs": [
    {
     "name": "stdout",
     "output_type": "stream",
     "text": [
      "Collecting pydub\n",
      "  Downloading pydub-0.25.1-py2.py3-none-any.whl (32 kB)\n",
      "Installing collected packages: pydub\n",
      "Successfully installed pydub-0.25.1\n"
     ]
    }
   ],
   "source": [
    "!pip install pydub"
   ]
  },
  {
   "cell_type": "code",
   "execution_count": 9,
   "id": "0af1196f-31ee-4e18-8745-6e5cacd9d4e0",
   "metadata": {},
   "outputs": [
    {
     "name": "stdout",
     "output_type": "stream",
     "text": [
      "12bddm1.wav\n",
      "12bddm2.wav\n",
      "3bddm1.wav\n",
      "3bddm2.wav\n",
      "7bddm1.wav\n",
      "7bddm2.wav\n",
      "diff1.wav\n",
      "diff2.wav\n",
      "glow1.wav\n",
      "glow2.wav\n",
      "gt1.wav\n",
      "gt2.wav\n",
      "hifi1.wav\n",
      "hifi2.wav\n",
      "mel1.wav\n",
      "mel2.wav\n",
      "rand.wav\n",
      "s1.wav\n",
      "s2.wav\n",
      "s3.wav\n",
      "wavegrad1.wav\n",
      "wavegrad2.wav\n",
      "wn1.wav\n",
      "wn2.wav\n"
     ]
    }
   ],
   "source": [
    "import glob\n",
    "from pydub import AudioSegment\n",
    "\n",
    "AudioSegment.ffmpeg = \"‪C:\\Program Files\\ffmpeg\\bin\\ffmpeg.exe\"\n",
    "\n",
    "def match_target_amplitude(sound, target_dBFS):\n",
    "    change_in_dBFS = target_dBFS - sound.dBFS\n",
    "    return sound.apply_gain(change_in_dBFS)\n",
    "\n",
    "for wav in glob.glob(\"*.wav\"):\n",
    "    if '_' in wav:\n",
    "        continue\n",
    "    print(wav)\n",
    "    try:\n",
    "        sound = AudioSegment.from_wav(wav)\n",
    "    except:\n",
    "        continue\n",
    "    normalized_sound = match_target_amplitude(sound, -20.0)\n",
    "    normalized_sound.export(wav, format=\"wav\")"
   ]
  },
  {
   "cell_type": "code",
   "execution_count": null,
   "id": "567e5814-17bb-42e9-a03d-4f1673d5a5cb",
   "metadata": {},
   "outputs": [],
   "source": []
  }
 ],
 "metadata": {
  "kernelspec": {
   "display_name": "Python 3",
   "language": "python",
   "name": "python3"
  },
  "language_info": {
   "codemirror_mode": {
    "name": "ipython",
    "version": 3
   },
   "file_extension": ".py",
   "mimetype": "text/x-python",
   "name": "python",
   "nbconvert_exporter": "python",
   "pygments_lexer": "ipython3",
   "version": "3.8.8"
  }
 },
 "nbformat": 4,
 "nbformat_minor": 5
}
